{
 "cells": [
  {
   "cell_type": "code",
   "execution_count": 1,
   "metadata": {},
   "outputs": [
    {
     "name": "stderr",
     "output_type": "stream",
     "text": [
      "/Users/batuhanyardim/.pyenv/versions/3.6.1/lib/python3.6/site-packages/h5py/__init__.py:36: FutureWarning: Conversion of the second argument of issubdtype from `float` to `np.floating` is deprecated. In future, it will be treated as `np.float64 == np.dtype(float).type`.\n",
      "  from ._conv import register_converters as _register_converters\n",
      "Using TensorFlow backend.\n",
      "/Users/batuhanyardim/.pyenv/versions/3.6.1/lib/python3.6/importlib/_bootstrap.py:205: RuntimeWarning: compiletime version 3.5 of module 'tensorflow.python.framework.fast_tensor_util' does not match runtime version 3.6\n",
      "  return f(*args, **kwds)\n"
     ]
    }
   ],
   "source": [
    "import math\n",
    "import matplotlib.pyplot as plt\n",
    "%matplotlib inline\n",
    "\n",
    "from keras_pandas.Automater import Automater\n",
    "import pandas as pd\n",
    "import keras\n",
    "import numpy as np"
   ]
  },
  {
   "cell_type": "markdown",
   "metadata": {},
   "source": [
    "## Load dataset"
   ]
  },
  {
   "cell_type": "code",
   "execution_count": 6,
   "metadata": {},
   "outputs": [],
   "source": [
    "train = np.load('./datasets/train_uk.npz')\n",
    "X_train = train['X']\n",
    "y_train = train['y']\n",
    "\n",
    "test = np.load('./datasets/test_uk.npz')\n",
    "X_test = test['X']\n",
    "y_test = test['y']"
   ]
  },
  {
   "cell_type": "markdown",
   "metadata": {},
   "source": [
    "## Keras model"
   ]
  },
  {
   "cell_type": "code",
   "execution_count": 72,
   "metadata": {},
   "outputs": [],
   "source": [
    "input_dim = X_train.shape[1]\n",
    "\n",
    "reg = 1e-3\n",
    "\n",
    "model = keras.Sequential()\n",
    "model.add(keras.layers.Dense(units=90, activation='tanh', input_dim=input_dim,\n",
    "                             kernel_regularizer=keras.regularizers.l2(reg),\n",
    "                             kernel_initializer=keras.initializers.glorot_normal(seed=None)))\n",
    "model.add(keras.layers.Dense(units=1, activation='sigmoid',\n",
    "                             kernel_regularizer=keras.regularizers.l2(reg),\n",
    "                            kernel_initializer=keras.initializers.glorot_normal(seed=None)))\n",
    "\n",
    "model.compile(loss=keras.losses.binary_crossentropy,\n",
    "              metrics=['accuracy'],\n",
    "              optimizer=keras.optimizers.SGD(lr=2e-5, momentum=0.9, nesterov=True))"
   ]
  },
  {
   "cell_type": "code",
   "execution_count": 73,
   "metadata": {
    "scrolled": true
   },
   "outputs": [
    {
     "name": "stderr",
     "output_type": "stream",
     "text": [
      "/Users/batuhanyardim/.pyenv/versions/3.6.1/lib/python3.6/site-packages/keras/models.py:942: UserWarning: The `nb_epoch` argument in `fit` has been renamed `epochs`.\n",
      "  warnings.warn('The `nb_epoch` argument in `fit` '\n"
     ]
    },
    {
     "name": "stdout",
     "output_type": "stream",
     "text": [
      "Train on 205438 samples, validate on 22827 samples\n",
      "Epoch 1/50\n",
      "205438/205438 [==============================] - 2s 11us/step - loss: 0.4967 - acc: 0.8494 - val_loss: 0.4857 - val_acc: 0.8522\n",
      "Epoch 2/50\n",
      "205438/205438 [==============================] - 2s 8us/step - loss: 0.4895 - acc: 0.8494 - val_loss: 0.4840 - val_acc: 0.8522\n",
      "Epoch 3/50\n",
      "205438/205438 [==============================] - 1s 7us/step - loss: 0.4882 - acc: 0.8494 - val_loss: 0.4829 - val_acc: 0.8522\n",
      "Epoch 4/50\n",
      "205438/205438 [==============================] - 1s 7us/step - loss: 0.4874 - acc: 0.8494 - val_loss: 0.4823 - val_acc: 0.8522\n",
      "Epoch 5/50\n",
      "205438/205438 [==============================] - 2s 8us/step - loss: 0.4868 - acc: 0.8494 - val_loss: 0.4818 - val_acc: 0.8522\n",
      "Epoch 6/50\n",
      "205438/205438 [==============================] - 2s 8us/step - loss: 0.4864 - acc: 0.8494 - val_loss: 0.4815 - val_acc: 0.8522\n",
      "Epoch 7/50\n",
      "205438/205438 [==============================] - 2s 9us/step - loss: 0.4861 - acc: 0.8494 - val_loss: 0.4812 - val_acc: 0.8522\n",
      "Epoch 8/50\n",
      "205438/205438 [==============================] - 1s 7us/step - loss: 0.4858 - acc: 0.8494 - val_loss: 0.4810 - val_acc: 0.8522\n",
      "Epoch 9/50\n",
      "205438/205438 [==============================] - 2s 7us/step - loss: 0.4857 - acc: 0.8494 - val_loss: 0.4809 - val_acc: 0.8522\n",
      "Epoch 10/50\n",
      "205438/205438 [==============================] - 2s 7us/step - loss: 0.4855 - acc: 0.8494 - val_loss: 0.4807 - val_acc: 0.8522\n",
      "Epoch 11/50\n",
      "205438/205438 [==============================] - 1s 7us/step - loss: 0.4854 - acc: 0.8494 - val_loss: 0.4806 - val_acc: 0.8522\n",
      "Epoch 12/50\n",
      "205438/205438 [==============================] - 1s 7us/step - loss: 0.4853 - acc: 0.8494 - val_loss: 0.4805 - val_acc: 0.8522\n",
      "Epoch 13/50\n",
      "205438/205438 [==============================] - 2s 8us/step - loss: 0.4852 - acc: 0.8494 - val_loss: 0.4804 - val_acc: 0.8522\n",
      "Epoch 14/50\n",
      "205438/205438 [==============================] - 1s 6us/step - loss: 0.4851 - acc: 0.8494 - val_loss: 0.4803 - val_acc: 0.8522\n",
      "Epoch 15/50\n",
      "205438/205438 [==============================] - 1s 6us/step - loss: 0.4850 - acc: 0.8494 - val_loss: 0.4802 - val_acc: 0.8522\n",
      "Epoch 16/50\n",
      "205438/205438 [==============================] - 1s 7us/step - loss: 0.4849 - acc: 0.8494 - val_loss: 0.4801 - val_acc: 0.8522\n",
      "Epoch 17/50\n",
      "205438/205438 [==============================] - 2s 9us/step - loss: 0.4848 - acc: 0.8494 - val_loss: 0.4800 - val_acc: 0.8522\n",
      "Epoch 18/50\n",
      "205438/205438 [==============================] - 2s 7us/step - loss: 0.4847 - acc: 0.8494 - val_loss: 0.4799 - val_acc: 0.8522\n",
      "Epoch 19/50\n",
      "205438/205438 [==============================] - 1s 6us/step - loss: 0.4847 - acc: 0.8494 - val_loss: 0.4798 - val_acc: 0.8522\n",
      "Epoch 20/50\n",
      "205438/205438 [==============================] - 1s 6us/step - loss: 0.4846 - acc: 0.8494 - val_loss: 0.4797 - val_acc: 0.8522\n",
      "Epoch 21/50\n",
      "205438/205438 [==============================] - 1s 6us/step - loss: 0.4845 - acc: 0.8494 - val_loss: 0.4797 - val_acc: 0.8522\n",
      "Epoch 22/50\n",
      "205438/205438 [==============================] - 1s 6us/step - loss: 0.4845 - acc: 0.8494 - val_loss: 0.4796 - val_acc: 0.8522\n",
      "Epoch 23/50\n",
      "205438/205438 [==============================] - 1s 6us/step - loss: 0.4844 - acc: 0.8494 - val_loss: 0.4795 - val_acc: 0.8522\n",
      "Epoch 24/50\n",
      "205438/205438 [==============================] - 1s 6us/step - loss: 0.4843 - acc: 0.8494 - val_loss: 0.4795 - val_acc: 0.8522\n",
      "Epoch 25/50\n",
      "205438/205438 [==============================] - 1s 6us/step - loss: 0.4843 - acc: 0.8494 - val_loss: 0.4794 - val_acc: 0.8522\n",
      "Epoch 26/50\n",
      "205438/205438 [==============================] - 1s 6us/step - loss: 0.4842 - acc: 0.8494 - val_loss: 0.4793 - val_acc: 0.8522\n",
      "Epoch 27/50\n",
      "205438/205438 [==============================] - 1s 6us/step - loss: 0.4841 - acc: 0.8494 - val_loss: 0.4793 - val_acc: 0.8522\n",
      "Epoch 28/50\n",
      "205438/205438 [==============================] - 1s 6us/step - loss: 0.4841 - acc: 0.8494 - val_loss: 0.4792 - val_acc: 0.8522\n",
      "Epoch 29/50\n",
      "205438/205438 [==============================] - 1s 6us/step - loss: 0.4840 - acc: 0.8494 - val_loss: 0.4791 - val_acc: 0.8522\n",
      "Epoch 30/50\n",
      "205438/205438 [==============================] - 1s 6us/step - loss: 0.4840 - acc: 0.8494 - val_loss: 0.4791 - val_acc: 0.8522\n",
      "Epoch 31/50\n",
      "205438/205438 [==============================] - 1s 6us/step - loss: 0.4839 - acc: 0.8494 - val_loss: 0.4790 - val_acc: 0.8522\n",
      "Epoch 32/50\n",
      "205438/205438 [==============================] - 1s 6us/step - loss: 0.4839 - acc: 0.8494 - val_loss: 0.4789 - val_acc: 0.8522\n",
      "Epoch 33/50\n",
      "205438/205438 [==============================] - 1s 6us/step - loss: 0.4838 - acc: 0.8494 - val_loss: 0.4789 - val_acc: 0.8522\n",
      "Epoch 34/50\n",
      "205438/205438 [==============================] - 1s 6us/step - loss: 0.4837 - acc: 0.8494 - val_loss: 0.4788 - val_acc: 0.8522\n",
      "Epoch 35/50\n",
      "205438/205438 [==============================] - 1s 6us/step - loss: 0.4837 - acc: 0.8494 - val_loss: 0.4787 - val_acc: 0.8522\n",
      "Epoch 36/50\n",
      "205438/205438 [==============================] - 1s 7us/step - loss: 0.4836 - acc: 0.8494 - val_loss: 0.4786 - val_acc: 0.8522\n",
      "Epoch 37/50\n",
      "205438/205438 [==============================] - 1s 7us/step - loss: 0.4836 - acc: 0.8494 - val_loss: 0.4786 - val_acc: 0.8522\n",
      "Epoch 38/50\n",
      "205438/205438 [==============================] - 2s 9us/step - loss: 0.4835 - acc: 0.8494 - val_loss: 0.4785 - val_acc: 0.8522\n",
      "Epoch 39/50\n",
      "205438/205438 [==============================] - 2s 9us/step - loss: 0.4835 - acc: 0.8494 - val_loss: 0.4785 - val_acc: 0.8522\n",
      "Epoch 40/50\n",
      "205438/205438 [==============================] - 2s 8us/step - loss: 0.4834 - acc: 0.8494 - val_loss: 0.4784 - val_acc: 0.8522\n",
      "Epoch 41/50\n",
      "205438/205438 [==============================] - 2s 7us/step - loss: 0.4834 - acc: 0.8494 - val_loss: 0.4784 - val_acc: 0.8522\n",
      "Epoch 42/50\n",
      "205438/205438 [==============================] - 2s 8us/step - loss: 0.4833 - acc: 0.8494 - val_loss: 0.4783 - val_acc: 0.8522\n",
      "Epoch 43/50\n",
      "205438/205438 [==============================] - 2s 8us/step - loss: 0.4833 - acc: 0.8494 - val_loss: 0.4782 - val_acc: 0.8522\n",
      "Epoch 44/50\n",
      "205438/205438 [==============================] - 2s 8us/step - loss: 0.4832 - acc: 0.8494 - val_loss: 0.4782 - val_acc: 0.8522\n",
      "Epoch 45/50\n",
      "205438/205438 [==============================] - 2s 8us/step - loss: 0.4832 - acc: 0.8494 - val_loss: 0.4781 - val_acc: 0.8522\n",
      "Epoch 46/50\n",
      "205438/205438 [==============================] - 2s 8us/step - loss: 0.4831 - acc: 0.8494 - val_loss: 0.4780 - val_acc: 0.8522\n",
      "Epoch 47/50\n",
      "205438/205438 [==============================] - 2s 8us/step - loss: 0.4831 - acc: 0.8494 - val_loss: 0.4780 - val_acc: 0.8522\n",
      "Epoch 48/50\n",
      "205438/205438 [==============================] - 2s 8us/step - loss: 0.4830 - acc: 0.8494 - val_loss: 0.4779 - val_acc: 0.8522\n",
      "Epoch 49/50\n",
      "205438/205438 [==============================] - 2s 8us/step - loss: 0.4830 - acc: 0.8494 - val_loss: 0.4779 - val_acc: 0.8522\n",
      "Epoch 50/50\n",
      "205438/205438 [==============================] - 2s 8us/step - loss: 0.4829 - acc: 0.8494 - val_loss: 0.4778 - val_acc: 0.8522\n"
     ]
    },
    {
     "data": {
      "text/plain": [
       "<keras.callbacks.History at 0x1378d2978>"
      ]
     },
     "execution_count": 73,
     "metadata": {},
     "output_type": "execute_result"
    }
   ],
   "source": [
    "model.fit(X_train, y_train, validation_split=0.1,\n",
    "          batch_size=600, nb_epoch=50, verbose=1)"
   ]
  },
  {
   "cell_type": "markdown",
   "metadata": {},
   "source": [
    "## Model variability"
   ]
  },
  {
   "cell_type": "code",
   "execution_count": 74,
   "metadata": {},
   "outputs": [
    {
     "data": {
      "image/png": "[encoded data removed]",
      "text/plain": [
       "<Figure size 432x288 with 1 Axes>"
      ]
     },
     "metadata": {},
     "output_type": "display_data"
    }
   ],
   "source": [
    "y_pred = model.predict_proba(X_train)\n",
    "\n",
    "plt.hist(y_pred, bins=20);"
   ]
  },
  {
   "cell_type": "markdown",
   "metadata": {},
   "source": [
    "## Some other hyperparams"
   ]
  },
  {
   "cell_type": "code",
   "execution_count": 88,
   "metadata": {
    "scrolled": true
   },
   "outputs": [
    {
     "name": "stderr",
     "output_type": "stream",
     "text": [
      "/Users/batuhanyardim/.pyenv/versions/3.6.1/lib/python3.6/site-packages/keras/models.py:942: UserWarning: The `nb_epoch` argument in `fit` has been renamed `epochs`.\n",
      "  warnings.warn('The `nb_epoch` argument in `fit` '\n"
     ]
    },
    {
     "name": "stdout",
     "output_type": "stream",
     "text": [
      "Train on 205438 samples, validate on 22827 samples\n",
      "Epoch 1/50\n",
      "205438/205438 [==============================] - 2s 12us/step - loss: 0.4895 - acc: 0.8090 - val_loss: 0.4283 - val_acc: 0.8522\n",
      "Epoch 2/50\n",
      "205438/205438 [==============================] - 1s 7us/step - loss: 0.4322 - acc: 0.8494 - val_loss: 0.4267 - val_acc: 0.8522\n",
      "Epoch 3/50\n",
      "205438/205438 [==============================] - 1s 7us/step - loss: 0.4313 - acc: 0.8494 - val_loss: 0.4261 - val_acc: 0.8522\n",
      "Epoch 4/50\n",
      "205438/205438 [==============================] - 2s 7us/step - loss: 0.4309 - acc: 0.8494 - val_loss: 0.4258 - val_acc: 0.8522\n",
      "Epoch 5/50\n",
      "205438/205438 [==============================] - 2s 7us/step - loss: 0.4306 - acc: 0.8494 - val_loss: 0.4255 - val_acc: 0.8522\n",
      "Epoch 6/50\n",
      "205438/205438 [==============================] - 2s 8us/step - loss: 0.4304 - acc: 0.8494 - val_loss: 0.4253 - val_acc: 0.8522\n",
      "Epoch 7/50\n",
      "205438/205438 [==============================] - 2s 7us/step - loss: 0.4303 - acc: 0.8494 - val_loss: 0.4252 - val_acc: 0.8522\n",
      "Epoch 8/50\n",
      "205438/205438 [==============================] - 2s 8us/step - loss: 0.4301 - acc: 0.8494 - val_loss: 0.4251 - val_acc: 0.8522\n",
      "Epoch 9/50\n",
      "205438/205438 [==============================] - 2s 8us/step - loss: 0.4300 - acc: 0.8494 - val_loss: 0.4250 - val_acc: 0.8522\n",
      "Epoch 10/50\n",
      "205438/205438 [==============================] - 2s 8us/step - loss: 0.4299 - acc: 0.8494 - val_loss: 0.4249 - val_acc: 0.8522\n",
      "Epoch 11/50\n",
      "205438/205438 [==============================] - 2s 8us/step - loss: 0.4299 - acc: 0.8494 - val_loss: 0.4248 - val_acc: 0.8522\n",
      "Epoch 12/50\n",
      "205438/205438 [==============================] - 2s 9us/step - loss: 0.4298 - acc: 0.8494 - val_loss: 0.4247 - val_acc: 0.8522\n",
      "Epoch 13/50\n",
      "205438/205438 [==============================] - 2s 8us/step - loss: 0.4297 - acc: 0.8494 - val_loss: 0.4247 - val_acc: 0.8522\n",
      "Epoch 14/50\n",
      "205438/205438 [==============================] - 2s 12us/step - loss: 0.4297 - acc: 0.8494 - val_loss: 0.4246 - val_acc: 0.8522\n",
      "Epoch 15/50\n",
      "205438/205438 [==============================] - 2s 8us/step - loss: 0.4296 - acc: 0.8494 - val_loss: 0.4246 - val_acc: 0.8522\n",
      "Epoch 16/50\n",
      "205438/205438 [==============================] - 1s 7us/step - loss: 0.4296 - acc: 0.8494 - val_loss: 0.4245 - val_acc: 0.8522\n",
      "Epoch 17/50\n",
      "205438/205438 [==============================] - 1s 6us/step - loss: 0.4295 - acc: 0.8494 - val_loss: 0.4245 - val_acc: 0.8522\n",
      "Epoch 18/50\n",
      "205438/205438 [==============================] - 1s 6us/step - loss: 0.4295 - acc: 0.8494 - val_loss: 0.4244 - val_acc: 0.8522\n",
      "Epoch 19/50\n",
      "205438/205438 [==============================] - 1s 7us/step - loss: 0.4295 - acc: 0.8494 - val_loss: 0.4244 - val_acc: 0.8522\n",
      "Epoch 20/50\n",
      "205438/205438 [==============================] - 1s 6us/step - loss: 0.4294 - acc: 0.8494 - val_loss: 0.4244 - val_acc: 0.8522\n",
      "Epoch 21/50\n",
      "205438/205438 [==============================] - 2s 9us/step - loss: 0.4294 - acc: 0.8494 - val_loss: 0.4243 - val_acc: 0.8522\n",
      "Epoch 22/50\n",
      "205438/205438 [==============================] - 1s 7us/step - loss: 0.4294 - acc: 0.8494 - val_loss: 0.4243 - val_acc: 0.8522\n",
      "Epoch 23/50\n",
      "205438/205438 [==============================] - 1s 6us/step - loss: 0.4293 - acc: 0.8494 - val_loss: 0.4243 - val_acc: 0.8522\n",
      "Epoch 24/50\n",
      "205438/205438 [==============================] - 1s 6us/step - loss: 0.4293 - acc: 0.8494 - val_loss: 0.4243 - val_acc: 0.8522\n",
      "Epoch 25/50\n",
      "205438/205438 [==============================] - 1s 6us/step - loss: 0.4293 - acc: 0.8494 - val_loss: 0.4242 - val_acc: 0.8522\n",
      "Epoch 26/50\n",
      "205438/205438 [==============================] - 1s 7us/step - loss: 0.4292 - acc: 0.8494 - val_loss: 0.4242 - val_acc: 0.8522\n",
      "Epoch 27/50\n",
      "205438/205438 [==============================] - 1s 7us/step - loss: 0.4292 - acc: 0.8494 - val_loss: 0.4242 - val_acc: 0.8522\n",
      "Epoch 28/50\n",
      "205438/205438 [==============================] - 2s 9us/step - loss: 0.4292 - acc: 0.8494 - val_loss: 0.4242 - val_acc: 0.8522\n",
      "Epoch 29/50\n",
      "205438/205438 [==============================] - 1s 7us/step - loss: 0.4292 - acc: 0.8494 - val_loss: 0.4241 - val_acc: 0.8522\n",
      "Epoch 30/50\n",
      "205438/205438 [==============================] - ETA: 0s - loss: 0.4292 - acc: 0.849 - 1s 7us/step - loss: 0.4292 - acc: 0.8494 - val_loss: 0.4241 - val_acc: 0.8522\n",
      "Epoch 31/50\n",
      "205438/205438 [==============================] - 1s 6us/step - loss: 0.4291 - acc: 0.8494 - val_loss: 0.4241 - val_acc: 0.8522\n",
      "Epoch 32/50\n",
      "205438/205438 [==============================] - 1s 6us/step - loss: 0.4291 - acc: 0.8494 - val_loss: 0.4241 - val_acc: 0.8522\n",
      "Epoch 33/50\n",
      "205438/205438 [==============================] - 1s 7us/step - loss: 0.4291 - acc: 0.8494 - val_loss: 0.4241 - val_acc: 0.8522\n",
      "Epoch 34/50\n",
      "205438/205438 [==============================] - 1s 7us/step - loss: 0.4291 - acc: 0.8494 - val_loss: 0.4240 - val_acc: 0.8522\n",
      "Epoch 35/50\n",
      "205438/205438 [==============================] - 1s 7us/step - loss: 0.4291 - acc: 0.8494 - val_loss: 0.4240 - val_acc: 0.8522\n",
      "Epoch 36/50\n",
      "205438/205438 [==============================] - 2s 7us/step - loss: 0.4290 - acc: 0.8494 - val_loss: 0.4240 - val_acc: 0.8522\n",
      "Epoch 37/50\n",
      "205438/205438 [==============================] - 2s 12us/step - loss: 0.4290 - acc: 0.8494 - val_loss: 0.4240 - val_acc: 0.8522\n",
      "Epoch 38/50\n",
      "205438/205438 [==============================] - 2s 9us/step - loss: 0.4290 - acc: 0.8494 - val_loss: 0.4240 - val_acc: 0.8522\n",
      "Epoch 39/50\n",
      "205438/205438 [==============================] - 2s 9us/step - loss: 0.4290 - acc: 0.8494 - val_loss: 0.4240 - val_acc: 0.8522\n",
      "Epoch 40/50\n",
      "205438/205438 [==============================] - 2s 9us/step - loss: 0.4290 - acc: 0.8494 - val_loss: 0.4239 - val_acc: 0.8522\n",
      "Epoch 41/50\n",
      "205438/205438 [==============================] - 2s 10us/step - loss: 0.4290 - acc: 0.8494 - val_loss: 0.4239 - val_acc: 0.8522\n",
      "Epoch 42/50\n",
      "205438/205438 [==============================] - 2s 8us/step - loss: 0.4290 - acc: 0.8494 - val_loss: 0.4239 - val_acc: 0.8522\n",
      "Epoch 43/50\n",
      "205438/205438 [==============================] - 2s 8us/step - loss: 0.4289 - acc: 0.8494 - val_loss: 0.4239 - val_acc: 0.8522\n",
      "Epoch 44/50\n",
      "205438/205438 [==============================] - 2s 8us/step - loss: 0.4289 - acc: 0.8494 - val_loss: 0.4239 - val_acc: 0.8522\n",
      "Epoch 45/50\n",
      "205438/205438 [==============================] - 2s 8us/step - loss: 0.4289 - acc: 0.8494 - val_loss: 0.4239 - val_acc: 0.8522\n",
      "Epoch 46/50\n",
      "205438/205438 [==============================] - 2s 8us/step - loss: 0.4289 - acc: 0.8494 - val_loss: 0.4239 - val_acc: 0.8522\n",
      "Epoch 47/50\n",
      "205438/205438 [==============================] - 2s 8us/step - loss: 0.4289 - acc: 0.8494 - val_loss: 0.4238 - val_acc: 0.8522\n",
      "Epoch 48/50\n",
      "205438/205438 [==============================] - 2s 9us/step - loss: 0.4289 - acc: 0.8494 - val_loss: 0.4238 - val_acc: 0.8522\n",
      "Epoch 49/50\n",
      "205438/205438 [==============================] - 2s 9us/step - loss: 0.4289 - acc: 0.8494 - val_loss: 0.4238 - val_acc: 0.8522\n",
      "Epoch 50/50\n",
      "205438/205438 [==============================] - 2s 9us/step - loss: 0.4289 - acc: 0.8494 - val_loss: 0.4238 - val_acc: 0.8522\n"
     ]
    },
    {
     "data": {
      "text/plain": [
       "<keras.callbacks.History at 0x13ab13be0>"
      ]
     },
     "execution_count": 88,
     "metadata": {},
     "output_type": "execute_result"
    }
   ],
   "source": [
    "input_dim = X_train.shape[1]\n",
    "\n",
    "reg = 2e-5\n",
    "\n",
    "model = keras.Sequential()\n",
    "model.add(keras.layers.Dense(units=90, activation='tanh', input_dim=input_dim,\n",
    "                             kernel_regularizer=keras.regularizers.l2(reg),\n",
    "                             kernel_initializer=keras.initializers.glorot_normal(seed=None)))\n",
    "# model.add(keras.layers.Dense(units=90, activation='tanh',\n",
    "#                              kernel_regularizer=keras.regularizers.l2(reg),\n",
    "#                              kernel_initializer=keras.initializers.glorot_normal(seed=None)))\n",
    "model.add(keras.layers.Dense(units=1, activation='sigmoid',\n",
    "                             kernel_regularizer=keras.regularizers.l2(reg),\n",
    "                            kernel_initializer=keras.initializers.glorot_normal(seed=None)))\n",
    "\n",
    "model.compile(loss=keras.losses.binary_crossentropy,\n",
    "              metrics=['accuracy'],\n",
    "              optimizer=keras.optimizers.SGD(lr=1e-4, momentum=0.9, nesterov=True, decay=0.04))\n",
    "\n",
    "model.fit(X_train, y_train, validation_split=0.1,\n",
    "          batch_size=600, nb_epoch=50, verbose=1)"
   ]
  },
  {
   "cell_type": "code",
   "execution_count": null,
   "metadata": {},
   "outputs": [],
   "source": [
    "y_pred = model.predict_proba(X_train)"
   ]
  },
  {
   "cell_type": "code",
   "execution_count": 91,
   "metadata": {
    "scrolled": true
   },
   "outputs": [
    {
     "data": {
      "text/plain": [
       "(array([5.0000e+00, 1.0800e+02, 7.5200e+02, 3.3520e+03, 8.0240e+03,\n",
       "        1.0674e+04, 1.4006e+04, 2.1227e+04, 2.2737e+04, 1.8287e+04,\n",
       "        1.5162e+04, 1.9140e+04, 2.2191e+04, 2.4720e+04, 2.0550e+04,\n",
       "        1.1926e+04, 6.0540e+03, 3.0850e+03, 2.1630e+03, 1.2900e+03,\n",
       "        1.0010e+03, 5.6400e+02, 4.7100e+02, 2.9000e+02, 1.9600e+02,\n",
       "        1.1600e+02, 6.1000e+01, 3.9000e+01, 2.6000e+01, 3.0000e+01,\n",
       "        5.0000e+00, 6.0000e+00, 4.0000e+00, 0.0000e+00, 0.0000e+00,\n",
       "        0.0000e+00, 0.0000e+00, 0.0000e+00, 0.0000e+00, 2.0000e+00]),\n",
       " array([0.11066955, 0.11479264, 0.11891574, 0.12303884, 0.12716193,\n",
       "        0.13128504, 0.13540813, 0.13953124, 0.14365433, 0.14777744,\n",
       "        0.15190053, 0.15602364, 0.16014673, 0.16426983, 0.16839293,\n",
       "        0.17251602, 0.17663912, 0.18076222, 0.18488532, 0.18900841,\n",
       "        0.19313152, 0.19725461, 0.20137772, 0.20550081, 0.20962392,\n",
       "        0.21374701, 0.21787012, 0.22199321, 0.2261163 , 0.2302394 ,\n",
       "        0.2343625 , 0.2384856 , 0.2426087 , 0.2467318 , 0.2508549 ,\n",
       "        0.254978  , 0.2591011 , 0.26322418, 0.2673473 , 0.2714704 ,\n",
       "        0.2755935 ], dtype=float32),\n",
       " <a list of 40 Patch objects>)"
      ]
     },
     "execution_count": 91,
     "metadata": {},
     "output_type": "execute_result"
    },
    {
     "data": {
      "image/png": "[encoded data removed]",
      "text/plain": [
       "<Figure size 432x288 with 1 Axes>"
      ]
     },
     "metadata": {},
     "output_type": "display_data"
    }
   ],
   "source": [
    "plt.hist(y_pred[y_pred<0.4], bins=40);"
   ]
  },
  {
   "cell_type": "code",
   "execution_count": 92,
   "metadata": {},
   "outputs": [],
   "source": [
    "# Save the weights\n",
    "model.save_weights('./models/weight1.h5')\n",
    "\n",
    "# Save the model architecture\n",
    "with open('./models/arch1.json', 'w') as f:\n",
    "    f.write(model.to_json())"
   ]
  }
 ],
 "metadata": {
  "kernelspec": {
   "display_name": "Python 3",
   "language": "python",
   "name": "python3"
  },
  "language_info": {
   "codemirror_mode": {
    "name": "ipython",
    "version": 3
   },
   "file_extension": ".py",
   "mimetype": "text/x-python",
   "name": "python",
   "nbconvert_exporter": "python",
   "pygments_lexer": "ipython3",
   "version": "3.6.1"
  }
 },
 "nbformat": 4,
 "nbformat_minor": 2
}
